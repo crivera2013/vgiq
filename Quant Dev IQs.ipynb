{
 "cells": [
  {
   "cell_type": "markdown",
   "metadata": {},
   "source": [
    "# Interview Questions for Quant Developer-Type Roles\n",
    "## Author: Christian Rivera\n",
    "\n",
    "\n",
    "# Question 1:  Create a function, `factorial` that replicates the arithmetic factorial operator \n",
    "- **Factorial**: a positive integer **_n_** denobted by $n!$ that is the product of all positive integers less than or equal to **_n_**\n",
    "\n",
    "$$ 0! = 1 $$\n",
    "$$ 1! = 1 \\times 0! = 1 \\times 1 = 1 $$\n",
    "$$ 3! = 3\\times 2 \\times 1 = 6 $$\n",
    "$$ 3! = 3 \\times 2! = 6 $$\n",
    "\n",
    "$$ n! = n \\times (n-1) \\times (n-2) .... \\times 3 \\times 2 \\times 1 $$\n"
   ]
  },
  {
   "cell_type": "code",
   "execution_count": null,
   "metadata": {},
   "outputs": [],
   "source": [
    "def factorial(number):\n",
    "    \"\"\"\n",
    "    Input:\n",
    "        - number (integer)\n",
    "    Output:\n",
    "        - an integer\n",
    "    ex:\n",
    "        - factorial(0) = 1\n",
    "        - factorial(3) = 6\n",
    "        - factorial(5) = 120\n",
    "    \"\"\"\n",
    "\n",
    "    "
   ]
  },
  {
   "cell_type": "code",
   "execution_count": null,
   "metadata": {},
   "outputs": [],
   "source": [
    "for i in range(6):\n",
    "    print(factorial(i))"
   ]
  },
  {
   "cell_type": "markdown",
   "metadata": {},
   "source": [
    "# Question 2:  Create a function, `euler`, that approximates Euler's constant `e`\n",
    "\n",
    "$$ e = \\lim\\limits_{n \\to \\infty} (1 + \\frac{1}{n})^n = 1 + \\frac{1}{1!} + \\frac{1}{2!} + \\frac{1}{3!} + \\cdots + \\frac{1}{(n-1)!} + \\frac{1}{n!} $$\n"
   ]
  },
  {
   "cell_type": "code",
   "execution_count": null,
   "metadata": {},
   "outputs": [],
   "source": [
    "def euler(number):\n",
    "    \"\"\"\n",
    "    Approximate Euler's constant, e, to the n-th level\n",
    "    Input:\n",
    "        - number (integer)\n",
    "    Output:\n",
    "        - (float)\n",
    "    ex: \n",
    "        - euler(0) = 1.0\n",
    "        - euler(1) = 2.0\n",
    "        - euler(2) = 2.5\n",
    "        - euler(3) = 2.6666\n",
    "    \"\"\""
   ]
  },
  {
   "cell_type": "code",
   "execution_count": null,
   "metadata": {},
   "outputs": [],
   "source": [
    "for i in range(4):\n",
    "    print(euler(i))"
   ]
  },
  {
   "cell_type": "code",
   "execution_count": null,
   "metadata": {},
   "outputs": [],
   "source": [
    "import numpy as np\n",
    "print(euler(16))\n",
    "print(np.exp(1))\n",
    "\n",
    "assert np.isclose(euler(16),np.exp(1))"
   ]
  },
  {
   "cell_type": "markdown",
   "metadata": {},
   "source": [
    "# Question 3:  Data Structures\n",
    "Write a function that takes as input an array of up to 1 million random integers and returns the number of unique integers in that list.  I am most interested in hearing your thoughts and ideas, more so than a perfect response of code. Avoid the `set` datatype.    "
   ]
  },
  {
   "cell_type": "code",
   "execution_count": null,
   "metadata": {},
   "outputs": [],
   "source": [
    "import numpy as np\n",
    "\n",
    "def findUniques(array):\n",
    "    \"\"\"\n",
    "    Inputs:\n",
    "        - array (numpy array or list of integers)\n",
    "    Output:\n",
    "        - answer (int) \n",
    "    Returns the count of the unique integers in the input array\n",
    "    \"\"\"\n",
    "    \n",
    "    \n",
    "    return answer\n",
    "    \n",
    "    "
   ]
  },
  {
   "cell_type": "code",
   "execution_count": null,
   "metadata": {},
   "outputs": [],
   "source": [
    "test = np.random.randint(0,100,size=(40))\n",
    "\n",
    "assert findUniques(test) == len(set(test))"
   ]
  },
  {
   "cell_type": "markdown",
   "metadata": {},
   "source": [
    "# Question 4:  Size complexity\n",
    "Can question 3 be done with `O(1)` auxiliary space (i.e. using only a constant amount of additional memory)?  If so, how would this be implemented?\n",
    "\n"
   ]
  },
  {
   "cell_type": "code",
   "execution_count": null,
   "metadata": {},
   "outputs": [],
   "source": [
    "import numpy as np\n",
    "\n",
    "def findUniquesConstantSize(array):\n",
    "    \"\"\"\n",
    "    Inputs:\n",
    "        - array (numpy array or list of integers)\n",
    "    Output:\n",
    "        - answer (int) \n",
    "    Returns the count of the unique integers in the input array\n",
    "    \"\"\"\n",
    "    \n",
    "    \n",
    "    return answer"
   ]
  }
 ],
 "metadata": {
  "kernelspec": {
   "display_name": "Python 3",
   "language": "python",
   "name": "python3"
  },
  "language_info": {
   "codemirror_mode": {
    "name": "ipython",
    "version": 3
   },
   "file_extension": ".py",
   "mimetype": "text/x-python",
   "name": "python",
   "nbconvert_exporter": "python",
   "pygments_lexer": "ipython3",
   "version": "3.6.8"
  }
 },
 "nbformat": 4,
 "nbformat_minor": 2
}
